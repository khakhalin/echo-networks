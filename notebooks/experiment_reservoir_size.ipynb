{
 "cells": [
  {
   "cell_type": "markdown",
   "metadata": {},
   "source": [
    "# Reservoir size and prediction quality"
   ]
  },
  {
   "cell_type": "code",
   "execution_count": 2,
   "metadata": {},
   "outputs": [],
   "source": [
    "import numpy as np\n",
    "import matplotlib.pyplot as plt\n",
    "from echo import esn\n",
    "import time"
   ]
  },
  {
   "cell_type": "code",
   "execution_count": 7,
   "metadata": {},
   "outputs": [
    {
     "name": "stdout",
     "output_type": "stream",
     "text": [
      ".................................................\n",
      "Elapsed: 103.66 s\n"
     ]
    },
    {
     "data": {
      "image/png": "[encoded data removed]",
      "text/plain": [
       "<Figure size 864x216 with 1 Axes>"
      ]
     },
     "metadata": {
      "needs_background": "light"
     },
     "output_type": "display_data"
    }
   ],
   "source": [
    "data = esn.Data.create_source('lorenz')\n",
    "\n",
    "points_to_skip = 300\n",
    "training_signal_length = 20000\n",
    "test_length = 500\n",
    "\n",
    "n_units_array = np.arange(20, 1000, 20, dtype=int)\n",
    "\n",
    "loss = np.zeros((len(n_units_array),2)) # Training and testing losses\n",
    "\n",
    "t = time.time()\n",
    "for i in range(len(n_units_array)):\n",
    "    model = esn.Reservoir(n_units_array[i], network_type='erdos')\n",
    "\n",
    "    x,y = data.generate(points_to_skip + training_signal_length, sampling_step=0.02, seed=0)\n",
    "    model.fit(x, y, skip=points_to_skip)\n",
    "\n",
    "    # Training data loss    \n",
    "    z = model.predict(x, length=points_to_skip+test_length)     \n",
    "    loss[i,0] = esn.utils.loss(y[points_to_skip:(points_to_skip+test_length)], z[points_to_skip:])\n",
    "    \n",
    "    # Now generate new data, predict on it, calculate testing loss\n",
    "    # seed = np.random.uniform()\n",
    "    seed = 1\n",
    "    x,y = data.generate(2000, sampling_step=0.02, seed=seed)\n",
    "    z = model.predict(x, length=points_to_skip+test_length)     \n",
    "    loss[i,1] = esn.utils.loss(y[points_to_skip:(points_to_skip+test_length)], z[points_to_skip:])\n",
    "    \n",
    "    print('.', end='')\n",
    "\n",
    "print(f'\\nElapsed: {time.time() - t:4.2f} s')\n",
    "\n",
    "    \n",
    "plt.figure(figsize=(12,3));\n",
    "plt.plot(n_units_array, loss, '.');\n",
    "plt.yscale('log')\n",
    "plt.xlabel('Reservoir size');\n",
    "plt.ylabel('Loss, MSE');\n",
    "plt.legend(labels=['Training', 'Testing']);"
   ]
  },
  {
   "cell_type": "markdown",
   "metadata": {},
   "source": [
    "For WS networks, testing loss goes up, which does not make much sense. For Erdos it mostly stays flat, buttowards the end also goes up a bit. Because at the same time training loss goes down, we probably  have a case of overfitting here. The network goes for small effects, that don't replicate in testing data. \n",
    "\n",
    "Do we need to use ridge regression? We're obviously overfitting here..."
   ]
  }
 ],
 "metadata": {
  "kernelspec": {
   "display_name": "Python 3",
   "language": "python",
   "name": "python3"
  },
  "language_info": {
   "codemirror_mode": {
    "name": "ipython",
    "version": 3
   },
   "file_extension": ".py",
   "mimetype": "text/x-python",
   "name": "python",
   "nbconvert_exporter": "python",
   "pygments_lexer": "ipython3",
   "version": "3.7.6"
  }
 },
 "nbformat": 4,
 "nbformat_minor": 4
}
