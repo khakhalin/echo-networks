{
 "cells": [
  {
   "cell_type": "markdown",
   "metadata": {},
   "source": [
    "# Optimizing rho and l2"
   ]
  },
  {
   "cell_type": "code",
   "execution_count": 1,
   "metadata": {},
   "outputs": [],
   "source": [
    "import numpy as np\n",
    "import matplotlib.pyplot as plt\n",
    "from echo import esn"
   ]
  },
  {
   "cell_type": "code",
   "execution_count": 46,
   "metadata": {},
   "outputs": [
    {
     "name": "stdout",
     "output_type": "stream",
     "text": [
      ".....;.....;.....;.....;|.....;.....;.....;.....;|.....;.....;.....;.....;|.....;.....;.....;.....;|.....;.....;.....;.....;|Done\n"
     ]
    }
   ],
   "source": [
    "# Experiments with rho, with fixed normalization strength\n",
    "\n",
    "data = esn.Data.create_source('lorenz')\n",
    "\n",
    "points_to_skip = 300\n",
    "training_signal_length = 10000\n",
    "test_length = 500\n",
    "n_units = 100\n",
    "n_edges = 500\n",
    "n_experiments = 5\n",
    "\n",
    "rhos = [None, 0.6, 0.8, 1.0, 1.2]\n",
    "l2s = [0, 0.0001, 0.0003, 0.001]\n",
    "\n",
    "loss_train = np.zeros((len(rhos), len(l2s), n_experiments))\n",
    "loss_test = np.zeros((len(rhos), len(l2s), n_experiments))\n",
    "\n",
    "seeds = np.random.uniform(size=n_experiments) # We always train on same data, but with different networks\n",
    "\n",
    "for (i_rho, rho) in enumerate(rhos):\n",
    "    for (i_l2, l2) in enumerate(l2s):\n",
    "        for i_exp in range(n_experiments):\n",
    "            x1,y1 = data.generate(points_to_skip + training_signal_length, seed=seeds[i_exp])\n",
    "            x2,y2 = data.generate(points_to_skip + training_signal_length, seed=1)\n",
    "\n",
    "            model = esn.Reservoir(n_units, n_edges=n_edges, rho=rho, l2=l2, network_type='erdos')\n",
    "            model.fit(x1, y1, skip=points_to_skip)\n",
    "\n",
    "            # Training data loss    \n",
    "            z = model.predict(x1, length=points_to_skip+test_length)     \n",
    "            loss_train[i_rho, i_l2, i_exp] = esn.utils.loss(y1[points_to_skip:(points_to_skip+test_length)], z[points_to_skip:])        \n",
    "\n",
    "            # Testing loss        \n",
    "            z = model.predict(x2, length=points_to_skip+test_length)     \n",
    "            loss_test[i_rho, i_l2, i_exp] = esn.utils.loss(y2[points_to_skip:(points_to_skip+test_length)], z[points_to_skip:])\n",
    "            print('.', end='')\n",
    "        print(';', end='')\n",
    "    print('|', end='')\n",
    "print('Done')"
   ]
  },
  {
   "cell_type": "code",
   "execution_count": 47,
   "metadata": {},
   "outputs": [
    {
     "data": {
      "image/png": "[encoded data removed]",
      "text/plain": [
       "<Figure size 864x216 with 2 Axes>"
      ]
     },
     "metadata": {
      "needs_background": "light"
     },
     "output_type": "display_data"
    }
   ],
   "source": [
    "# 2D heatplots of both hyperparameters\n",
    "def plot2d(x, y, z, label=None):\n",
    "    plt.imshow(z.T) # Important: matrices have columns first :)\n",
    "    plt.xticks(np.arange(len(x)), labels=[str(e) for e in x])\n",
    "    plt.yticks(np.arange(len(y)), labels=[str(e) for e in y])\n",
    "    plt.title(label)\n",
    "\n",
    "plt.figure(figsize=(12,3))\n",
    "plt.subplot(121)\n",
    "lts = np.mean(loss_train, axis=2)\n",
    "plot2d(rhos, l2s, lts, 'Training')\n",
    "plt.subplot(122)\n",
    "lss = np.mean(loss_test, axis=2)\n",
    "plot2d(rhos, l2s, lss, 'Testing')"
   ]
  },
  {
   "cell_type": "code",
   "execution_count": 49,
   "metadata": {},
   "outputs": [
    {
     "data": {
      "image/png": "[encoded data removed]",
      "text/plain": [
       "<Figure size 864x288 with 2 Axes>"
      ]
     },
     "metadata": {
      "needs_background": "light"
     },
     "output_type": "display_data"
    }
   ],
   "source": [
    "# Transsections\n",
    "def plot1d(x, y, xlabel=None, ylabel=None, title=None):\n",
    "    y = np.squeeze(y) # We expect sngleton dimensions here\n",
    "    xticklabels = [str(e) for e in x]    \n",
    "    for i,label in enumerate(x):\n",
    "        plt.plot(i + np.random.uniform(size=y.shape[1])*0.6 - 0.3, y[i,:], '.', alpha=0.5)\n",
    "        plt.plot(i, np.mean(y[i,:]), 'sk')\n",
    "    plt.xticks(np.arange(len(x)), labels=xticklabels)\n",
    "    plt.xlabel(xlabel)\n",
    "    plt.ylabel(ylabel)\n",
    "    plt.title(title)\n",
    "        \n",
    "plt.figure(figsize=(12,4))\n",
    "plt.subplot(121)\n",
    "plot1d(rhos, loss_train[:,1,:], 'Rho', 'Training loss', f'l2={l2s[1]}')\n",
    "plt.subplot(122)\n",
    "plot1d(rhos, loss_test[:,1,:], 'Rho', 'Testing loss', f'l2={l2s[1]}')"
   ]
  },
  {
   "cell_type": "markdown",
   "metadata": {},
   "source": [
    "# Notes from Mar 13, 2021"
   ]
  },
  {
   "cell_type": "markdown",
   "metadata": {},
   "source": [
    "### Observations for N=100, E=200, Erdos\n",
    "\n",
    "* No regularization:\n",
    " * Optimum of ~30 achieved at ρ=0.2-0.4\n",
    " * Testing loss < training loss\n",
    "* Regularization 0.001:\n",
    " * Optimum at ρ=1\n",
    " * Higher loss (about 40)\n",
    "* Regularization 0.01:\n",
    " * Much higher loss (about 50)\n",
    " * Optimum at ρ~0.8\n",
    " * Testing loss still lower than training loss\n",
    "* l2=0.001, but E=300 \n",
    " * Very similar pic, similar optimal rho, but loss much lower (for l2=0.001, from 50 moved to 35)\n",
    "* l2=0.001, but E=500 \n",
    " * Very similar to previous one.\n",
    "* l2=0.01, E=500\n",
    " * Similar pattern, but higher loss (40 instead of 35).\n",
    " \n"
   ]
  },
  {
   "cell_type": "markdown",
   "metadata": {},
   "source": [
    "### Observations for N=100, E=200, WS\n",
    "\n",
    "* No regularization:\n",
    " * With no regularization, loss is minimal for ρ=0.6 (about 40). Round 60 boh for extremely low and high ρ.\n",
    " * When ρ is not rescaled (set to None), for training data, some near=0 losses are achievable. But for testing data they explode. Extreme overfitting?\n",
    "* Regularizatoin 0.0001\n",
    " * Optimum of ~40 (so similar to no regularization), but at rho=1.0 (so more similar to 0.01).\n",
    " * Testing loss substantially lower than training loss (~60) 🤔\n",
    "* Regularization 0.01:\n",
    " * Loss is actually higher, with minimum of about 4 achieved for ρ of 1.2.\n",
    " * Same pattern for \"free rho\": great training loss, horrible testing.\n",
    "* Regularizatoin 0.02:\n",
    " * near-constant loss of ~50. Obviously, signal is just suppressed at this point."
   ]
  }
 ],
 "metadata": {
  "kernelspec": {
   "display_name": "Python 3",
   "language": "python",
   "name": "python3"
  },
  "language_info": {
   "codemirror_mode": {
    "name": "ipython",
    "version": 3
   },
   "file_extension": ".py",
   "mimetype": "text/x-python",
   "name": "python",
   "nbconvert_exporter": "python",
   "pygments_lexer": "ipython3",
   "version": "3.7.6"
  }
 },
 "nbformat": 4,
 "nbformat_minor": 4
}
