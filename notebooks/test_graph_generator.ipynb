{
 "cells": [
  {
   "cell_type": "markdown",
   "metadata": {},
   "source": [
    "# Test graph generation"
   ]
  },
  {
   "cell_type": "code",
   "execution_count": 1,
   "metadata": {},
   "outputs": [],
   "source": [
    "from echo import esn"
   ]
  },
  {
   "cell_type": "code",
   "execution_count": 2,
   "metadata": {},
   "outputs": [
    {
     "data": {
      "text/plain": [
       "{0: [2, 4, 6],\n",
       " 1: [3, 4],\n",
       " 2: [0, 3, 4],\n",
       " 3: [1, 2],\n",
       " 4: [0, 1, 2, 6],\n",
       " 5: [],\n",
       " 6: [0, 4]}"
      ]
     },
     "execution_count": 2,
     "metadata": {},
     "output_type": "execute_result"
    }
   ],
   "source": [
    "esn.creator.make_graph(7, 8)"
   ]
  },
  {
   "cell_type": "code",
   "execution_count": 3,
   "metadata": {},
   "outputs": [
    {
     "data": {
      "text/plain": [
       "{0: [1, 2, 5],\n",
       " 1: [0, 6],\n",
       " 2: [1, 0, 4],\n",
       " 3: [2, 6],\n",
       " 4: [3, 5, 2],\n",
       " 5: [0, 4, 6, 0],\n",
       " 6: [0, 5, 1, 3]}"
      ]
     },
     "execution_count": 3,
     "metadata": {},
     "output_type": "execute_result"
    }
   ],
   "source": [
    "g = esn.creator.make_graph(7, 8, 'ws')\n",
    "g"
   ]
  },
  {
   "cell_type": "code",
   "execution_count": 4,
   "metadata": {},
   "outputs": [
    {
     "data": {
      "text/plain": [
       "array([[-0.,  1., -1.,  0., -0.,  1., -0.],\n",
       "       [ 1., -0.,  0., -0.,  0., -0.,  1.],\n",
       "       [-1.,  1., -0.,  0., -1.,  0., -0.],\n",
       "       [ 0., -0.,  1., -0.,  0., -0.,  1.],\n",
       "       [-0.,  0., -1.,  1., -0.,  1., -0.],\n",
       "       [ 1., -0.,  0., -0.,  1., -0.,  1.],\n",
       "       [-1.,  1., -0.,  1., -0.,  1., -0.]])"
      ]
     },
     "execution_count": 4,
     "metadata": {},
     "output_type": "execute_result"
    }
   ],
   "source": [
    "esn.creator.graph_to_weights(g, inhibition='alternating')"
   ]
  }
 ],
 "metadata": {
  "kernelspec": {
   "display_name": "Python 3",
   "language": "python",
   "name": "python3"
  },
  "language_info": {
   "codemirror_mode": {
    "name": "ipython",
    "version": 3
   },
   "file_extension": ".py",
   "mimetype": "text/x-python",
   "name": "python",
   "nbconvert_exporter": "python",
   "pygments_lexer": "ipython3",
   "version": "3.7.6"
  }
 },
 "nbformat": 4,
 "nbformat_minor": 4
}
