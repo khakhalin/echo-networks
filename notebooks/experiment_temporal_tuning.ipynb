{
 "cells": [
  {
   "cell_type": "markdown",
   "metadata": {},
   "source": [
    "# How important is the reservoir time constant?\n",
    "\n",
    "A time-like ($τ$) parameter is available both in the data generator (sampling_step) and the reservoir ($α \\sim 1/τ$). Wouldn't they dominate the quality of prediction?\n",
    "\n",
    "Feb 15: No clear answer, but we need to troubleshoot other aspects of this model, before returning to this one. For now it's just too noisy."
   ]
  },
  {
   "cell_type": "code",
   "execution_count": 1,
   "metadata": {},
   "outputs": [],
   "source": [
    "import numpy as np\n",
    "import matplotlib.pyplot as plt\n",
    "from echo import esn\n",
    "import time"
   ]
  },
  {
   "cell_type": "code",
   "execution_count": 7,
   "metadata": {},
   "outputs": [
    {
     "name": "stdout",
     "output_type": "stream",
     "text": [
      "......./......./......./......./......./......./......./\n",
      "Elapsed: 133.74 s\n"
     ]
    },
    {
     "data": {
      "image/png": "[encoded data removed]",
      "text/plain": [
       "<Figure size 720x360 with 4 Axes>"
      ]
     },
     "metadata": {
      "needs_background": "light"
     },
     "output_type": "display_data"
    }
   ],
   "source": [
    "data = esn.Data.create_source('lorenz')\n",
    "\n",
    "points_to_skip = 300\n",
    "training_signal_length = 20000\n",
    "test_length = 200\n",
    "n_nodes = 200\n",
    "\n",
    "taus = np.array([0.02, 0.05, 0.1, 0.2, 0.5, 1, 2]) # Different time constants\n",
    "\n",
    "loss = np.zeros((len(taus), len(taus), 2)) # Training and testing losses\n",
    "\n",
    "t = time.time()\n",
    "for i in range(len(taus)): # Data\n",
    "    for j in range(len(taus)): # Model\n",
    "        model = esn.Reservoir(n_nodes, alpha=1/taus[j]) # Some empirical scaling\n",
    "\n",
    "        seed = np.random.uniform()\n",
    "        x,y = data.generate(points_to_skip + training_signal_length, sampling_step=taus[i], seed=seed)\n",
    "        model.fit(x, y, skip=points_to_skip)\n",
    "\n",
    "        # Training data loss    \n",
    "        z = model.predict(x, length=points_to_skip+test_length)     \n",
    "        loss[i,j,0] = esn.utils.loss(y[points_to_skip:(points_to_skip+test_length)], z[points_to_skip:])\n",
    "\n",
    "        # Now generate new data, predict on it, calculate testing loss\n",
    "        seed = np.random.uniform()\n",
    "        x,y = data.generate(2000, sampling_step=taus[i], seed=seed)\n",
    "        z = model.predict(x, length=points_to_skip+test_length)     \n",
    "        loss[i,j,1] = esn.utils.loss(y[points_to_skip:(points_to_skip+test_length)], z[points_to_skip:])\n",
    "\n",
    "        print('.', end='')\n",
    "    print('/', end='')\n",
    "\n",
    "print(f'\\nElapsed: {time.time() - t:4.2f} s')\n",
    "\n",
    "    \n",
    "taus = np.round(taus, 4)\n",
    "plt.figure(figsize=(10,5));\n",
    "plt.subplot(121);\n",
    "plt.imshow(np.log(loss[:,:,0]));\n",
    "plt.title('Training loss');\n",
    "plt.xticks(ticks=range(len(taus)), labels=1/taus)\n",
    "plt.yticks(ticks=range(len(taus)), labels=taus)\n",
    "plt.ylabel('Data τ')\n",
    "plt.xlabel('Model τ')\n",
    "plt.colorbar();\n",
    "plt.subplot(122);\n",
    "plt.imshow(np.log(loss[:,:,1]));\n",
    "plt.title('Testing loss');\n",
    "plt.xticks(ticks=range(len(taus)), labels=1/taus)\n",
    "plt.yticks(ticks=range(len(taus)), labels=taus)\n",
    "plt.colorbar();\n",
    "plt.xlabel('Model τ');"
   ]
  }
 ],
 "metadata": {
  "kernelspec": {
   "display_name": "Python 3",
   "language": "python",
   "name": "python3"
  },
  "language_info": {
   "codemirror_mode": {
    "name": "ipython",
    "version": 3
   },
   "file_extension": ".py",
   "mimetype": "text/x-python",
   "name": "python",
   "nbconvert_exporter": "python",
   "pygments_lexer": "ipython3",
   "version": "3.7.6"
  }
 },
 "nbformat": 4,
 "nbformat_minor": 4
}
