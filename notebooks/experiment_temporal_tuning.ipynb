{
 "cells": [
  {
   "cell_type": "markdown",
   "metadata": {},
   "source": [
    "# How important is the reservoir time constant?\n",
    "\n",
    "A time-like ($τ$) parameter is available both in the data generator (sampling_step) and the reservoir ($α \\sim 1/τ$). Wouldn't they dominate the quality of prediction?"
   ]
  },
  {
   "cell_type": "code",
   "execution_count": 1,
   "metadata": {},
   "outputs": [],
   "source": [
    "import numpy as np\n",
    "import matplotlib.pyplot as plt\n",
    "from echo import esn\n",
    "import time"
   ]
  },
  {
   "cell_type": "code",
   "execution_count": 2,
   "metadata": {},
   "outputs": [
    {
     "name": "stdout",
     "output_type": "stream",
     "text": [
      "......"
     ]
    },
    {
     "ename": "KeyboardInterrupt",
     "evalue": "",
     "output_type": "error",
     "traceback": [
      "\u001b[1;31m---------------------------------------------------------------------------\u001b[0m",
      "\u001b[1;31mKeyboardInterrupt\u001b[0m                         Traceback (most recent call last)",
      "\u001b[1;32m<ipython-input-2-7dd7cfb8e5b5>\u001b[0m in \u001b[0;36m<module>\u001b[1;34m\u001b[0m\n\u001b[0;32m     17\u001b[0m         \u001b[0mseed\u001b[0m \u001b[1;33m=\u001b[0m \u001b[0mnp\u001b[0m\u001b[1;33m.\u001b[0m\u001b[0mrandom\u001b[0m\u001b[1;33m.\u001b[0m\u001b[0muniform\u001b[0m\u001b[1;33m(\u001b[0m\u001b[1;33m)\u001b[0m\u001b[1;33m\u001b[0m\u001b[1;33m\u001b[0m\u001b[0m\n\u001b[0;32m     18\u001b[0m         \u001b[0mx\u001b[0m\u001b[1;33m,\u001b[0m\u001b[0my\u001b[0m \u001b[1;33m=\u001b[0m \u001b[0mdata\u001b[0m\u001b[1;33m.\u001b[0m\u001b[0mgenerate\u001b[0m\u001b[1;33m(\u001b[0m\u001b[0mpoints_to_skip\u001b[0m \u001b[1;33m+\u001b[0m \u001b[0mtraining_signal_length\u001b[0m\u001b[1;33m,\u001b[0m \u001b[0msampling_step\u001b[0m\u001b[1;33m=\u001b[0m\u001b[0mtaus\u001b[0m\u001b[1;33m[\u001b[0m\u001b[0mi\u001b[0m\u001b[1;33m]\u001b[0m\u001b[1;33m,\u001b[0m \u001b[0mseed\u001b[0m\u001b[1;33m=\u001b[0m\u001b[0mseed\u001b[0m\u001b[1;33m)\u001b[0m\u001b[1;33m\u001b[0m\u001b[1;33m\u001b[0m\u001b[0m\n\u001b[1;32m---> 19\u001b[1;33m         \u001b[0mmodel\u001b[0m\u001b[1;33m.\u001b[0m\u001b[0mfit\u001b[0m\u001b[1;33m(\u001b[0m\u001b[0mx\u001b[0m\u001b[1;33m,\u001b[0m \u001b[0my\u001b[0m\u001b[1;33m,\u001b[0m \u001b[0mskip\u001b[0m\u001b[1;33m=\u001b[0m\u001b[0mpoints_to_skip\u001b[0m\u001b[1;33m)\u001b[0m\u001b[1;33m\u001b[0m\u001b[1;33m\u001b[0m\u001b[0m\n\u001b[0m\u001b[0;32m     20\u001b[0m \u001b[1;33m\u001b[0m\u001b[0m\n\u001b[0;32m     21\u001b[0m         \u001b[1;31m# Training data loss\u001b[0m\u001b[1;33m\u001b[0m\u001b[1;33m\u001b[0m\u001b[1;33m\u001b[0m\u001b[0m\n",
      "\u001b[1;32m~\\Documents\\Projects\\Networks\\echo-git\\esn\\reservoir.py\u001b[0m in \u001b[0;36mfit\u001b[1;34m(self, x, y, skip)\u001b[0m\n\u001b[0;32m     78\u001b[0m         \u001b[0mself\u001b[0m\u001b[1;33m.\u001b[0m\u001b[0minput_norm\u001b[0m \u001b[1;33m=\u001b[0m \u001b[1;33m[\u001b[0m\u001b[0mnp\u001b[0m\u001b[1;33m.\u001b[0m\u001b[0mmean\u001b[0m\u001b[1;33m(\u001b[0m\u001b[0mx\u001b[0m\u001b[1;33m)\u001b[0m\u001b[1;33m,\u001b[0m \u001b[0mnp\u001b[0m\u001b[1;33m.\u001b[0m\u001b[0mstd\u001b[0m\u001b[1;33m(\u001b[0m\u001b[0mx\u001b[0m\u001b[1;33m)\u001b[0m\u001b[1;33m]\u001b[0m\u001b[1;33m\u001b[0m\u001b[1;33m\u001b[0m\u001b[0m\n\u001b[0;32m     79\u001b[0m         \u001b[0mself\u001b[0m\u001b[1;33m.\u001b[0m\u001b[0mbias_out\u001b[0m \u001b[1;33m=\u001b[0m \u001b[0mnp\u001b[0m\u001b[1;33m.\u001b[0m\u001b[0mmean\u001b[0m\u001b[1;33m(\u001b[0m\u001b[0my\u001b[0m\u001b[1;33m)\u001b[0m\u001b[1;33m\u001b[0m\u001b[1;33m\u001b[0m\u001b[0m\n\u001b[1;32m---> 80\u001b[1;33m         \u001b[0mhistory\u001b[0m \u001b[1;33m=\u001b[0m \u001b[0mself\u001b[0m\u001b[1;33m.\u001b[0m\u001b[0mrun\u001b[0m\u001b[1;33m(\u001b[0m\u001b[1;33m(\u001b[0m\u001b[0mx\u001b[0m \u001b[1;33m-\u001b[0m \u001b[0mself\u001b[0m\u001b[1;33m.\u001b[0m\u001b[0minput_norm\u001b[0m\u001b[1;33m[\u001b[0m\u001b[1;36m0\u001b[0m\u001b[1;33m]\u001b[0m\u001b[1;33m)\u001b[0m\u001b[1;33m/\u001b[0m\u001b[0mself\u001b[0m\u001b[1;33m.\u001b[0m\u001b[0minput_norm\u001b[0m\u001b[1;33m[\u001b[0m\u001b[1;36m1\u001b[0m\u001b[1;33m]\u001b[0m\u001b[1;33m)\u001b[0m\u001b[1;33m\u001b[0m\u001b[1;33m\u001b[0m\u001b[0m\n\u001b[0m\u001b[0;32m     81\u001b[0m         self.weights_out = (((y[skip:].T - self.bias_out) @ history[skip:, :]) @\n\u001b[0;32m     82\u001b[0m                             np.linalg.pinv(history[skip:, :].T @ history[skip:, :]))\n",
      "\u001b[1;32m~\\Documents\\Projects\\Networks\\echo-git\\esn\\reservoir.py\u001b[0m in \u001b[0;36mrun\u001b[1;34m(self, input, n_steps)\u001b[0m\n\u001b[0;32m     58\u001b[0m             \u001b[1;32melse\u001b[0m\u001b[1;33m:\u001b[0m\u001b[1;33m\u001b[0m\u001b[1;33m\u001b[0m\u001b[0m\n\u001b[0;32m     59\u001b[0m                 \u001b[0mself\u001b[0m\u001b[1;33m.\u001b[0m\u001b[0m_forward\u001b[0m\u001b[1;33m(\u001b[0m\u001b[1;33m)\u001b[0m\u001b[1;33m\u001b[0m\u001b[1;33m\u001b[0m\u001b[0m\n\u001b[1;32m---> 60\u001b[1;33m             \u001b[0mhistory\u001b[0m\u001b[1;33m[\u001b[0m\u001b[0mi_step\u001b[0m\u001b[1;33m,\u001b[0m \u001b[1;33m:\u001b[0m\u001b[1;33m]\u001b[0m \u001b[1;33m=\u001b[0m \u001b[0mself\u001b[0m\u001b[1;33m.\u001b[0m\u001b[0mstate\u001b[0m\u001b[1;33m\u001b[0m\u001b[1;33m\u001b[0m\u001b[0m\n\u001b[0m\u001b[0;32m     61\u001b[0m         \u001b[1;32mreturn\u001b[0m \u001b[0mhistory\u001b[0m\u001b[1;33m\u001b[0m\u001b[1;33m\u001b[0m\u001b[0m\n\u001b[0;32m     62\u001b[0m \u001b[1;33m\u001b[0m\u001b[0m\n",
      "\u001b[1;31mKeyboardInterrupt\u001b[0m: "
     ]
    }
   ],
   "source": [
    "data = esn.Data.create_source('lorenz')\n",
    "\n",
    "points_to_skip = 300\n",
    "training_signal_length = 20000\n",
    "test_length = 200\n",
    "n_nodes = 200\n",
    "\n",
    "taus = np.array([0.02, 0.05, 0.1, 0.2, 0.5, 1, 2, 5]) # Different time constants\n",
    "\n",
    "loss = np.zeros((len(taus), len(taus), 2)) # Training and testing losses\n",
    "\n",
    "t = time.time()\n",
    "for i in range(len(taus)): # Data\n",
    "    for j in range(len(taus)): # Model\n",
    "        model = esn.Reservoir(n_nodes, alpha=1/taus[j]) # Some empirical scaling\n",
    "\n",
    "        seed = np.random.uniform()\n",
    "        x,y = data.generate(points_to_skip + training_signal_length, sampling_step=taus[i], seed=seed)\n",
    "        model.fit(x, y, skip=points_to_skip)\n",
    "\n",
    "        # Training data loss    \n",
    "        z = model.predict(x, length=points_to_skip+test_length)     \n",
    "        loss[i,j,0] = esn.utils.loss(y[points_to_skip:(points_to_skip+test_length)], z[points_to_skip:])\n",
    "\n",
    "        # Now generate new data, predict on it, calculate testing loss\n",
    "        seed = np.random.uniform()\n",
    "        x,y = data.generate(2000, sampling_step=taus[i], seed=seed)\n",
    "        z = model.predict(x, length=points_to_skip+test_length)     \n",
    "        loss[i,j,1] = esn.utils.loss(y[points_to_skip:(points_to_skip+test_length)], z[points_to_skip:])\n",
    "\n",
    "        print('.', end='')\n",
    "    print('/', end='')\n",
    "\n",
    "print(f'\\nElapsed: {time.time() - t:4.2f} s')\n",
    "\n",
    "    \n",
    "taus = np.round(taus, 4)\n",
    "plt.figure(figsize=(10,5));\n",
    "plt.subplot(121);\n",
    "plt.imshow(np.log(loss[:,:,0]));\n",
    "plt.title('Training loss');\n",
    "plt.xticks(ticks=range(len(taus)), labels=taus)\n",
    "plt.yticks(ticks=range(len(taus)), labels=taus)\n",
    "plt.ylabel('Data τ')\n",
    "plt.xlabel('Model τ')\n",
    "plt.colorbar();\n",
    "plt.subplot(122);\n",
    "plt.imshow(np.log(loss[:,:,1]));\n",
    "plt.title('Testing loss');\n",
    "plt.xticks(ticks=range(len(taus)), labels=taus)\n",
    "plt.yticks(ticks=range(len(taus)), labels=taus)\n",
    "plt.colorbar();\n",
    "plt.xlabel('Model τ');"
   ]
  }
 ],
 "metadata": {
  "kernelspec": {
   "display_name": "Python 3",
   "language": "python",
   "name": "python3"
  },
  "language_info": {
   "codemirror_mode": {
    "name": "ipython",
    "version": 3
   },
   "file_extension": ".py",
   "mimetype": "text/x-python",
   "name": "python",
   "nbconvert_exporter": "python",
   "pygments_lexer": "ipython3",
   "version": "3.7.6"
  }
 },
 "nbformat": 4,
 "nbformat_minor": 4
}
